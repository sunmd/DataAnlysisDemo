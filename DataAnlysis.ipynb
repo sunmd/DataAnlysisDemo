{
 "cells": [
  {
   "cell_type": "markdown",
   "metadata": {},
   "source": [
    "累积和(Cumulative Sum) ：累积和用以在某个相对稳定的数据序列中，检测出开始发生异常的数据点。所谓异常的数据点，\n",
    "                        比如说，从这点开始，整个数列的平均值或者均方差开始发生改变，进而影响到整组数据的稳定。\n",
    "                        所以累积和最典型的应用是在“改变检测”(Change Detection)中对参量变化的检测。"
   ]
  },
  {
   "cell_type": "markdown",
   "metadata": {},
   "source": [
    "分布分析 → 研究数据的分布特征和分布类型，分定量数据、定性数据区分基本统计量\n",
    "\n",
    "极差 / 频率分布情况 / 分组组距及组数\n",
    "\n",
    "分两种字段，一个是定量字段，一个是定性字段，\n",
    "定量字段：用pd.cut分区间，然后再value_count得出计算值然后再算频率，累积频率\n",
    "定量字段：用value_count得出计算值然后再算频率，累积频率"
   ]
  }
 ],
 "metadata": {
  "kernelspec": {
   "display_name": "Python 3",
   "language": "python",
   "name": "python3"
  },
  "language_info": {
   "codemirror_mode": {
    "name": "ipython",
    "version": 3
   },
   "file_extension": ".py",
   "mimetype": "text/x-python",
   "name": "python",
   "nbconvert_exporter": "python",
   "pygments_lexer": "ipython3",
   "version": "3.6.4"
  }
 },
 "nbformat": 4,
 "nbformat_minor": 2
}
