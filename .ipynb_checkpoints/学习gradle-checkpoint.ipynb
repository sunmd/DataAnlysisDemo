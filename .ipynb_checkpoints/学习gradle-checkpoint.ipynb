{
 "cells": [
  {
   "cell_type": "markdown",
   "metadata": {},
   "source": [
    "## 整体结构\n",
    "1. 工程为一个整体project\n",
    "2. 一个工程有多个模块\n",
    "3. 里面的所有运行指令都是通过gradlew来进行执行"
   ]
  },
  {
   "cell_type": "markdown",
   "metadata": {},
   "source": [
    "## gradlew的理解\n",
    "1. 本身为脚本可执行文件，调用\n",
    "2. 通过配置文件进行控制，执行java调用，包名org.gradle.wrapper.GradleWrapperMain\n",
    "3. jar文件在gradle/wrapper"
   ]
  },
  {
   "cell_type": "markdown",
   "metadata": {},
   "source": [
    "## 文件结构\n",
    "        ├── build.gradle  \n",
    "        ├── gradle\n",
    "        │   └── wrapper\n",
    "        │       ├── gradle-wrapper.jar  \n",
    "        │       └── gradle-wrapper.properties  \n",
    "        ├── gradlew  \n",
    "        ├── gradlew.bat  \n",
    "        └── settings.gradle  \n",
    "- build.gradle 顶级配置文件"
   ]
  },
  {
   "cell_type": "markdown",
   "metadata": {},
   "source": [
    "## build.gradle基本结构\n",
    "  \n",
    "    ├── buildscript\n",
    "    │       ├── repostories\n",
    "    │       └── dependencies\n",
    "    ├── allprojects\n",
    "    │       └── repostories\n",
    "    └── task\n",
    "    "
   ]
  },
  {
   "cell_type": "code",
   "execution_count": null,
   "metadata": {},
   "outputs": [],
   "source": [
    "1"
   ]
  }
 ],
 "metadata": {
  "kernelspec": {
   "display_name": "Python 3",
   "language": "python",
   "name": "python3"
  },
  "language_info": {
   "codemirror_mode": {
    "name": "ipython",
    "version": 3
   },
   "file_extension": ".py",
   "mimetype": "text/x-python",
   "name": "python",
   "nbconvert_exporter": "python",
   "pygments_lexer": "ipython3",
   "version": "3.6.4"
  }
 },
 "nbformat": 4,
 "nbformat_minor": 2
}
