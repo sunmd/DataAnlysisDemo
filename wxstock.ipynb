{
 "cells": [
  {
   "cell_type": "code",
   "execution_count": 1,
   "metadata": {},
   "outputs": [
    {
     "name": "stdout",
     "output_type": "stream",
     "text": [
      "█\r"
     ]
    },
    {
     "name": "stderr",
     "output_type": "stream",
     "text": [
      "Getting uuid of QR code.\n",
      "Downloading QR code.\n",
      "Please scan the QR code to log in.\n",
      "Please press confirm on your phone.\n",
      "Loading the contact, this may take a little while.\n",
      "Login successfully as 中达\n"
     ]
    }
   ],
   "source": [
    "# 导入模块\n",
    "from wxpy import *\n",
    "import os\n",
    "# 初始化机器人，扫码登陆\n",
    "bot = Bot()"
   ]
  },
  {
   "cell_type": "code",
   "execution_count": 5,
   "metadata": {},
   "outputs": [
    {
     "ename": "ResponseError",
     "evalue": "err_code: 1; err_msg: ",
     "output_type": "error",
     "traceback": [
      "\u001b[0;31m---------------------------------------------------------------------------\u001b[0m",
      "\u001b[0;31mResponseError\u001b[0m                             Traceback (most recent call last)",
      "\u001b[0;32m<ipython-input-5-7cde816a9504>\u001b[0m in \u001b[0;36m<module>\u001b[0;34m()\u001b[0m\n\u001b[1;32m      4\u001b[0m \u001b[0;34m\u001b[0m\u001b[0m\n\u001b[1;32m      5\u001b[0m \u001b[0;31m#my_group = bot.search()\u001b[0m\u001b[0;34m\u001b[0m\u001b[0;34m\u001b[0m\u001b[0m\n\u001b[0;32m----> 6\u001b[0;31m \u001b[0mbot\u001b[0m\u001b[0;34m.\u001b[0m\u001b[0mfile_helper\u001b[0m\u001b[0;34m.\u001b[0m\u001b[0msend_file\u001b[0m\u001b[0;34m(\u001b[0m\u001b[0;34mr'/home/sunmd/文档/参考.xlsx'\u001b[0m\u001b[0;34m)\u001b[0m\u001b[0;34m\u001b[0m\u001b[0m\n\u001b[0m\u001b[1;32m      7\u001b[0m \u001b[0;31m#print(my_group)\u001b[0m\u001b[0;34m\u001b[0m\u001b[0;34m\u001b[0m\u001b[0m\n",
      "\u001b[0;32m~/anaconda3/lib/python3.6/site-packages/wxpy/api/chats/chat.py\u001b[0m in \u001b[0;36mwrapped\u001b[0;34m(self, *args, **kwargs)\u001b[0m\n\u001b[1;32m     52\u001b[0m                     \u001b[0;32mreturn\u001b[0m \u001b[0mitchat_partial_func\u001b[0m\u001b[0;34m(\u001b[0m\u001b[0;34m**\u001b[0m\u001b[0mitchat_call_or_ret\u001b[0m\u001b[0;34m)\u001b[0m\u001b[0;34m\u001b[0m\u001b[0m\n\u001b[1;32m     53\u001b[0m \u001b[0;34m\u001b[0m\u001b[0m\n\u001b[0;32m---> 54\u001b[0;31m                 \u001b[0mret\u001b[0m \u001b[0;34m=\u001b[0m \u001b[0mdo_send\u001b[0m\u001b[0;34m(\u001b[0m\u001b[0;34m)\u001b[0m\u001b[0;34m\u001b[0m\u001b[0m\n\u001b[0m\u001b[1;32m     55\u001b[0m             \u001b[0;32melse\u001b[0m\u001b[0;34m:\u001b[0m\u001b[0;34m\u001b[0m\u001b[0m\n\u001b[1;32m     56\u001b[0m                 \u001b[0;31m# send_raw_msg 会直接返回结果\u001b[0m\u001b[0;34m\u001b[0m\u001b[0;34m\u001b[0m\u001b[0m\n",
      "\u001b[0;32m~/anaconda3/lib/python3.6/site-packages/wxpy/utils/misc.py\u001b[0m in \u001b[0;36mwrapped\u001b[0;34m(*args, **kwargs)\u001b[0m\n\u001b[1;32m     70\u001b[0m                 \u001b[0;32mreturn\u001b[0m\u001b[0;34m\u001b[0m\u001b[0m\n\u001b[1;32m     71\u001b[0m \u001b[0;34m\u001b[0m\u001b[0m\n\u001b[0;32m---> 72\u001b[0;31m             \u001b[0msmart_map\u001b[0m\u001b[0;34m(\u001b[0m\u001b[0mcheck_response_body\u001b[0m\u001b[0;34m,\u001b[0m \u001b[0mret\u001b[0m\u001b[0;34m)\u001b[0m\u001b[0;34m\u001b[0m\u001b[0m\n\u001b[0m\u001b[1;32m     73\u001b[0m \u001b[0;34m\u001b[0m\u001b[0m\n\u001b[1;32m     74\u001b[0m             \u001b[0;32mif\u001b[0m \u001b[0mto_class\u001b[0m\u001b[0;34m:\u001b[0m\u001b[0;34m\u001b[0m\u001b[0m\n",
      "\u001b[0;32m~/anaconda3/lib/python3.6/site-packages/wxpy/utils/misc.py\u001b[0m in \u001b[0;36msmart_map\u001b[0;34m(func, i, *args, **kwargs)\u001b[0m\n\u001b[1;32m    205\u001b[0m         \u001b[0;32mreturn\u001b[0m \u001b[0mlist\u001b[0m\u001b[0;34m(\u001b[0m\u001b[0mmap\u001b[0m\u001b[0;34m(\u001b[0m\u001b[0;32mlambda\u001b[0m \u001b[0mx\u001b[0m\u001b[0;34m:\u001b[0m \u001b[0mfunc\u001b[0m\u001b[0;34m(\u001b[0m\u001b[0mx\u001b[0m\u001b[0;34m,\u001b[0m \u001b[0;34m*\u001b[0m\u001b[0margs\u001b[0m\u001b[0;34m,\u001b[0m \u001b[0;34m**\u001b[0m\u001b[0mkwargs\u001b[0m\u001b[0;34m)\u001b[0m\u001b[0;34m,\u001b[0m \u001b[0mi\u001b[0m\u001b[0;34m)\u001b[0m\u001b[0;34m)\u001b[0m\u001b[0;34m\u001b[0m\u001b[0m\n\u001b[1;32m    206\u001b[0m     \u001b[0;32melse\u001b[0m\u001b[0;34m:\u001b[0m\u001b[0;34m\u001b[0m\u001b[0m\n\u001b[0;32m--> 207\u001b[0;31m         \u001b[0;32mreturn\u001b[0m \u001b[0mfunc\u001b[0m\u001b[0;34m(\u001b[0m\u001b[0mi\u001b[0m\u001b[0;34m,\u001b[0m \u001b[0;34m*\u001b[0m\u001b[0margs\u001b[0m\u001b[0;34m,\u001b[0m \u001b[0;34m**\u001b[0m\u001b[0mkwargs\u001b[0m\u001b[0;34m)\u001b[0m\u001b[0;34m\u001b[0m\u001b[0m\n\u001b[0m\u001b[1;32m    208\u001b[0m \u001b[0;34m\u001b[0m\u001b[0m\n\u001b[1;32m    209\u001b[0m \u001b[0;34m\u001b[0m\u001b[0m\n",
      "\u001b[0;32m~/anaconda3/lib/python3.6/site-packages/wxpy/utils/misc.py\u001b[0m in \u001b[0;36mcheck_response_body\u001b[0;34m(response_body)\u001b[0m\n\u001b[1;32m     51\u001b[0m             \u001b[0;32mif\u001b[0m \u001b[0mint\u001b[0m\u001b[0;34m(\u001b[0m\u001b[0merr_code\u001b[0m\u001b[0;34m)\u001b[0m \u001b[0;34m>\u001b[0m \u001b[0;36m0\u001b[0m\u001b[0;34m:\u001b[0m\u001b[0;34m\u001b[0m\u001b[0m\n\u001b[1;32m     52\u001b[0m                 \u001b[0merr_msg\u001b[0m \u001b[0;34m=\u001b[0m \u001b[0mdecode_text_from_webwx\u001b[0m\u001b[0;34m(\u001b[0m\u001b[0merr_msg\u001b[0m\u001b[0;34m)\u001b[0m\u001b[0;34m\u001b[0m\u001b[0m\n\u001b[0;32m---> 53\u001b[0;31m             \u001b[0;32mraise\u001b[0m \u001b[0mResponseError\u001b[0m\u001b[0;34m(\u001b[0m\u001b[0merr_code\u001b[0m\u001b[0;34m=\u001b[0m\u001b[0merr_code\u001b[0m\u001b[0;34m,\u001b[0m \u001b[0merr_msg\u001b[0m\u001b[0;34m=\u001b[0m\u001b[0merr_msg\u001b[0m\u001b[0;34m)\u001b[0m\u001b[0;34m\u001b[0m\u001b[0m\n\u001b[0m\u001b[1;32m     54\u001b[0m \u001b[0;34m\u001b[0m\u001b[0m\n\u001b[1;32m     55\u001b[0m \u001b[0;34m\u001b[0m\u001b[0m\n",
      "\u001b[0;31mResponseError\u001b[0m: err_code: 1; err_msg: "
     ]
    }
   ],
   "source": [
    "my_friend = bot.friends()\n",
    "bot.file_helper.send('Hello from wxpy!')\n",
    "#my_group = bot.groups().search('青年,忽尔今夏,中达,lizh')[0]\n",
    "\n",
    "#my_group = bot.search()\n",
    "bot.file_helper.send_file(r'/home/sunmd/文档/参考.xlsx')\n",
    "#print(my_group)"
   ]
  },
  {
   "cell_type": "code",
   "execution_count": 11,
   "metadata": {},
   "outputs": [],
   "source": [
    " #输入路径\n",
    "#file_path = r'/home/sunmd/stock/'\n",
    "file_path = 'C:/Users/sun-m/Desktop/stock/'\n",
    "    \n",
    "#当天数据进行汇报\n",
    "def report_today_msg(session, to_day):\n",
    "    session.send_msg('中达数据分析1.1')\n",
    "    session.send_msg('今天:' + to_day)\n",
    "    \n",
    "    session.send_msg('按时间分析涨幅和净流入:')\n",
    "    session.send_image(file_path + '1.png')\n",
    "    \n",
    "    session.send_msg('前十大资金流入:')\n",
    "    session.send_image(file_path + '2.png')\n",
    "    \n",
    "    session.send_msg('今天大资金流出:')\n",
    "    session.send_image(file_path + '3.png')\n",
    "    \n",
    "    session.send_msg('前五净流入:')\n",
    "    session.send_image(file_path + '4.png')\n",
    "    \n",
    "    session.send_msg('后五净流入:')\n",
    "    session.send_image(file_path + '5.png')\n",
    "    \n",
    "    \n",
    "    for filename in os.listdir(file_path):\n",
    "        \n",
    "        if 'ycz_jlr' in filename:\n",
    "            print('+++++++')\n",
    "            print(filename, type(filename))\n",
    "            session.send_msg('异常净流入板块:')\n",
    "            session.send_image(file_path + filename)\n",
    "            \n",
    "        if 'ycz_zf' in filename:\n",
    "            print('-------')\n",
    "            print(filename, type(filename))\n",
    "            session.send_msg('异常涨幅板块:')\n",
    "            session.send_image(file_path + filename)\n",
    "            "
   ]
  },
  {
   "cell_type": "code",
   "execution_count": 1,
   "metadata": {},
   "outputs": [
    {
     "ename": "NameError",
     "evalue": "name 'bot' is not defined",
     "output_type": "error",
     "traceback": [
      "\u001b[0;31m---------------------------------------------------------------------------\u001b[0m",
      "\u001b[0;31mNameError\u001b[0m                                 Traceback (most recent call last)",
      "\u001b[0;32m<ipython-input-1-dd8ebb203524>\u001b[0m in \u001b[0;36m<module>\u001b[0;34m()\u001b[0m\n\u001b[0;32m----> 1\u001b[0;31m \u001b[0mhelper\u001b[0m \u001b[0;34m=\u001b[0m \u001b[0mbot\u001b[0m\u001b[0;34m.\u001b[0m\u001b[0mfile_helper\u001b[0m\u001b[0;34m\u001b[0m\u001b[0m\n\u001b[0m\u001b[1;32m      2\u001b[0m \u001b[0mreport_today_msg\u001b[0m\u001b[0;34m(\u001b[0m\u001b[0mmy_group\u001b[0m\u001b[0;34m,\u001b[0m \u001b[0;34m'2018-06-08'\u001b[0m\u001b[0;34m)\u001b[0m\u001b[0;34m\u001b[0m\u001b[0m\n",
      "\u001b[0;31mNameError\u001b[0m: name 'bot' is not defined"
     ]
    }
   ],
   "source": [
    "helper = bot.file_helper\n",
    "report_today_msg(my_group, '2018-06-08')"
   ]
  },
  {
   "cell_type": "code",
   "execution_count": 12,
   "metadata": {},
   "outputs": [],
   "source": [
    "import numpy as np\n",
    "import pandas as pd\n",
    "import matplotlib.pyplot as plt\n",
    "\n",
    "import matplotlib as mpl\n",
    "mpl.rcParams['font.sans-serif'] = ['KaiTi']\n",
    "mpl.rcParams['font.serif'] = ['KaiTi']\n",
    "mpl.rcParams['axes.unicode_minus']=False\n",
    "\n",
    "#输出数据\n",
    "str_data = '/home/sunmd/stock/shuju.xlsx'\n",
    "#str_data = r'C:\\Users\\sun-m\\Desktop\\stock\\shuju.xlsx'\n",
    "\n",
    "#输入路径\n",
    "file_path = r'/home/sunmd/stock/'\n",
    "#file_path = 'C:/Users/sun-m/Desktop/stock/'\n",
    "\n",
    "#固定的列名\n",
    "columns_name = ['代码', '名称', '涨幅%', '净流入', '大流入', '大流出', '中流入', '中流出', '统计时间']\n",
    "\n",
    "#读数据表\n",
    "def read_data():\n",
    "    return pd.read_excel(str_data)\n",
    "\n",
    "#涨幅和净流入图标回执\n",
    "def zf_jlr(df, name, png_name):\n",
    "    fig,axis = plt.subplots(1,2, figsize=(16,8))\n",
    "    df['涨幅%'].plot(kind='bar', ax=axis[0], alpha=0.8, title=name + '涨幅统计', rot=45, fontsize=(15))\n",
    "    df['净流入'].plot(kind='bar', ax=axis[1], alpha=0.8, title=name + '净流入统计', rot=45, fontsize=(15))\n",
    "    print(file_path+png_name + \"保存路径\")\n",
    "    plt.savefig(file_path+png_name, dpi=400)\n",
    "    print('保存成功')"
   ]
  },
  {
   "cell_type": "code",
   "execution_count": 23,
   "metadata": {},
   "outputs": [],
   "source": [
    "#img\n",
    "img = 'temp.png'\n",
    "\n",
    "helper = bot.file_helper\n",
    "# 定位地主会\n",
    "#company_group = ensure_one(bot.groups().search('青年,忽尔今夏,中达,lizh'))\n",
    "\n",
    "\n",
    "# 将老板的消息转发到文件传输助手\n",
    "@bot.register(helper)\n",
    "def forward_boss_message(msg):\n",
    "    if msg.text == '提示':\n",
    "        msg.reply_msg(columns_name)\n",
    "        \n",
    "    elif msg.text in columns_name:\n",
    "        temp_df = df[df['名称']==name]\n",
    "        \n",
    "        zf_jlr(temp_df[-10:], msg.text, file_path + img)\n",
    "        msg.reply_msg(\"今天到前10天的%s板块情况：\" %(msg.text))\n",
    "        msg.reply_image(file_path + img)\n",
    "\n",
    "# 堵塞线程\n",
    "#embed()\n"
   ]
  },
  {
   "cell_type": "code",
   "execution_count": 6,
   "metadata": {},
   "outputs": [
    {
     "name": "stderr",
     "output_type": "stream",
     "text": [
      "LOG OUT!\n"
     ]
    },
    {
     "data": {
      "text/plain": [
       "<ItchatReturnValue: {'BaseResponse': {'ErrMsg': '请求成功', 'Ret': 0, 'RawMsg': 'logout successfully.'}}>"
      ]
     },
     "execution_count": 6,
     "metadata": {},
     "output_type": "execute_result"
    }
   ],
   "source": [
    "bot.logout()"
   ]
  }
 ],
 "metadata": {
  "kernelspec": {
   "display_name": "Python 3",
   "language": "python",
   "name": "python3"
  },
  "language_info": {
   "codemirror_mode": {
    "name": "ipython",
    "version": 3
   },
   "file_extension": ".py",
   "mimetype": "text/x-python",
   "name": "python",
   "nbconvert_exporter": "python",
   "pygments_lexer": "ipython3",
   "version": "3.6.4"
  }
 },
 "nbformat": 4,
 "nbformat_minor": 2
}
