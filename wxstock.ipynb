{
 "cells": [
  {
   "cell_type": "code",
   "execution_count": 11,
   "metadata": {},
   "outputs": [
    {
     "name": "stderr",
     "output_type": "stream",
     "text": [
      "Getting uuid of QR code.\n",
      "Downloading QR code.\n",
      "Please scan the QR code to log in.\n",
      "Please press confirm on your phone.\n",
      "Loading the contact, this may take a little while.\n",
      "Login successfully as 中达\n"
     ]
    }
   ],
   "source": [
    "# 导入模块\n",
    "from wxpy import *\n",
    "import os\n",
    "# 初始化机器人，扫码登陆\n",
    "bot = Bot()"
   ]
  },
  {
   "cell_type": "code",
   "execution_count": 13,
   "metadata": {},
   "outputs": [],
   "source": [
    "my_friend = bot.friends()\n",
    "bot.file_helper.send('Hello from wxpy!')\n",
    "my_group = bot.groups().search('青年,忽尔今夏,中达,lizh')[0]\n",
    "\n"
   ]
  },
  {
   "cell_type": "code",
   "execution_count": 5,
   "metadata": {},
   "outputs": [],
   "source": [
    " #输入路径\n",
    "#file_path = r'/home/sunmd/stock/'\n",
    "file_path = 'C:/Users/sun-m/Desktop/stock/'\n",
    "    \n",
    "#当天数据进行汇报\n",
    "def report_today_msg(session, to_day):\n",
    "    session.send_msg('中达数据分析1.1')\n",
    "    session.send_msg('今天:' + to_day)\n",
    "    \n",
    "    session.send_msg('按时间分析涨幅和净流入:')\n",
    "    session.send_image(file_path + '1.png')\n",
    "    \n",
    "    session.send_msg('前十大资金流入:')\n",
    "    session.send_image(file_path + '2.png')\n",
    "    \n",
    "    session.send_msg('今天大资金流出:')\n",
    "    session.send_image(file_path + '3.png')\n",
    "    \n",
    "    session.send_msg('前五净流入:')\n",
    "    session.send_image(file_path + '4.png')\n",
    "    \n",
    "    session.send_msg('后五净流入:')\n",
    "    session.send_image(file_path + '5.png')\n",
    "    \n",
    "    \n",
    "    for filename in os.listdir(file_path):\n",
    "        \n",
    "        if 'ycz_jlr' in filename:\n",
    "            print('+++++++')\n",
    "            print(filename, type(filename))\n",
    "            session.send_msg('异常净流入板块:')\n",
    "            session.send_image(file_path + filename)\n",
    "            \n",
    "        if 'ycz_zf' in filename:\n",
    "            print('-------')\n",
    "            print(filename, type(filename))\n",
    "            session.send_msg('异常涨幅板块:')\n",
    "            session.send_image(file_path + filename)\n",
    "            "
   ]
  },
  {
   "cell_type": "code",
   "execution_count": 14,
   "metadata": {},
   "outputs": [
    {
     "name": "stdout",
     "output_type": "stream",
     "text": [
      "+++++++\n",
      "ycz_jlr0.png <class 'str'>\n",
      "+++++++\n",
      "ycz_jlr1.png <class 'str'>\n",
      "+++++++\n",
      "ycz_jlr2.png <class 'str'>\n",
      "-------\n",
      "ycz_zf0.png <class 'str'>\n",
      "-------\n",
      "ycz_zf1.png <class 'str'>\n"
     ]
    },
    {
     "name": "stderr",
     "output_type": "stream",
     "text": [
      "LOG OUT!\n"
     ]
    }
   ],
   "source": [
    "helper = bot.file_helper\n",
    "report_today_msg(my_group, '2018-06-08')"
   ]
  },
  {
   "cell_type": "code",
   "execution_count": 3,
   "metadata": {},
   "outputs": [
    {
     "name": "stderr",
     "output_type": "stream",
     "text": [
      "LOG OUT!\n"
     ]
    },
    {
     "data": {
      "text/plain": [
       "<ItchatReturnValue: {'BaseResponse': {'ErrMsg': '请求成功', 'Ret': 0, 'RawMsg': 'logout successfully.'}}>"
      ]
     },
     "execution_count": 3,
     "metadata": {},
     "output_type": "execute_result"
    }
   ],
   "source": [
    "bot.logout()"
   ]
  }
 ],
 "metadata": {
  "kernelspec": {
   "display_name": "Python 3",
   "language": "python",
   "name": "python3"
  },
  "language_info": {
   "codemirror_mode": {
    "name": "ipython",
    "version": 3
   },
   "file_extension": ".py",
   "mimetype": "text/x-python",
   "name": "python",
   "nbconvert_exporter": "python",
   "pygments_lexer": "ipython3",
   "version": "3.6.4"
  }
 },
 "nbformat": 4,
 "nbformat_minor": 2
}
