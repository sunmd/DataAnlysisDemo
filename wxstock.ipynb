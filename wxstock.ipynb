{
 "cells": [
  {
   "cell_type": "code",
   "execution_count": 1,
   "metadata": {},
   "outputs": [
    {
     "name": "stdout",
     "output_type": "stream",
     "text": [
      "█\r"
     ]
    },
    {
     "name": "stderr",
     "output_type": "stream",
     "text": [
      "Getting uuid of QR code.\n",
      "Downloading QR code.\n",
      "Please scan the QR code to log in.\n",
      "Please press confirm on your phone.\n",
      "Loading the contact, this may take a little while.\n",
      "Login successfully as 中达\n"
     ]
    }
   ],
   "source": [
    "# 导入模块\n",
    "from wxpy import *\n",
    "# 初始化机器人，扫码登陆\n",
    "bot = Bot()"
   ]
  },
  {
   "cell_type": "code",
   "execution_count": 2,
   "metadata": {},
   "outputs": [
    {
     "data": {
      "text/plain": [
       "↪ 青年,忽尔今夏,中达,lizh : (Picture)"
      ]
     },
     "execution_count": 2,
     "metadata": {},
     "output_type": "execute_result"
    }
   ],
   "source": [
    "my_friend = bot.friends()\n",
    "bot.file_helper.send('Hello from wxpy!')\n",
    "my_group = bot.groups().search('青年,忽尔今夏,中达,lizh')[0]\n",
    "my_group.send_msg('测试版本06-05')\n",
    "my_group.send_msg('整体资金情况前十')\n",
    "my_group.send_image(r'C:\\Users\\sun-m\\Desktop\\stock\\DataAnlysisDemo-master\\6-5-1.png')\n",
    "my_group.send_msg('整体资金情况后十')\n",
    "my_group.send_image(r'C:\\Users\\sun-m\\Desktop\\stock\\DataAnlysisDemo-master\\6-5-2.png')\n",
    "my_group.send_msg('今天大涨同时大量资金流入')\n",
    "my_group.send_image(r'C:\\Users\\sun-m\\Desktop\\stock\\DataAnlysisDemo-master\\6-5-3.png')\n",
    "my_group.send_msg('今日异常资金情况')\n",
    "my_group.send_image(r'C:\\Users\\sun-m\\Desktop\\stock\\DataAnlysisDemo-master\\6-5-4.png')\n",
    "my_group.send_msg('整体涨幅和净流入的情况')\n",
    "my_group.send_image(r'C:\\Users\\sun-m\\Desktop\\stock\\DataAnlysisDemo-master\\pic.png')\n",
    "\n"
   ]
  },
  {
   "cell_type": "code",
   "execution_count": 3,
   "metadata": {},
   "outputs": [
    {
     "name": "stderr",
     "output_type": "stream",
     "text": [
      "LOG OUT!\n"
     ]
    },
    {
     "data": {
      "text/plain": [
       "<ItchatReturnValue: {'BaseResponse': {'ErrMsg': '请求成功', 'Ret': 0, 'RawMsg': 'logout successfully.'}}>"
      ]
     },
     "execution_count": 3,
     "metadata": {},
     "output_type": "execute_result"
    }
   ],
   "source": [
    "bot.logout()"
   ]
  }
 ],
 "metadata": {
  "kernelspec": {
   "display_name": "Python 3",
   "language": "python",
   "name": "python3"
  },
  "language_info": {
   "codemirror_mode": {
    "name": "ipython",
    "version": 3
   },
   "file_extension": ".py",
   "mimetype": "text/x-python",
   "name": "python",
   "nbconvert_exporter": "python",
   "pygments_lexer": "ipython3",
   "version": "3.6.4"
  }
 },
 "nbformat": 4,
 "nbformat_minor": 2
}
