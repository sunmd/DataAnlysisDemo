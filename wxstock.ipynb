{
 "cells": [
  {
   "cell_type": "code",
   "execution_count": 7,
   "metadata": {},
   "outputs": [
    {
     "name": "stderr",
     "output_type": "stream",
     "text": [
      "Getting uuid of QR code.\n",
      "Downloading QR code.\n",
      "Please scan the QR code to log in.\n",
      "Please press confirm on your phone.\n",
      "Loading the contact, this may take a little while.\n",
      "Login successfully as 中达\n"
     ]
    }
   ],
   "source": [
    "# 导入模块\n",
    "from wxpy import *\n",
    "# 初始化机器人，扫码登陆\n",
    "bot = Bot()"
   ]
  },
  {
   "cell_type": "code",
   "execution_count": 9,
   "metadata": {},
   "outputs": [
    {
     "ename": "ResponseError",
     "evalue": "err_code: 1; err_msg: ",
     "output_type": "error",
     "traceback": [
      "\u001b[1;31m---------------------------------------------------------------------------\u001b[0m",
      "\u001b[1;31mResponseError\u001b[0m                             Traceback (most recent call last)",
      "\u001b[1;32m<ipython-input-9-8a7e1eccbcb5>\u001b[0m in \u001b[0;36m<module>\u001b[1;34m()\u001b[0m\n\u001b[0;32m     23\u001b[0m \u001b[1;31m#my_group.send_image(r'C:\\Users\\sun-m\\Desktop\\stock\\DataAnlysisDemo-master\\6-4-8.png')\u001b[0m\u001b[1;33m\u001b[0m\u001b[1;33m\u001b[0m\u001b[0m\n\u001b[0;32m     24\u001b[0m \u001b[0mmy_group\u001b[0m\u001b[1;33m.\u001b[0m\u001b[0msend_msg\u001b[0m\u001b[1;33m(\u001b[0m\u001b[1;34m'条形图'\u001b[0m\u001b[1;33m)\u001b[0m\u001b[1;33m\u001b[0m\u001b[0m\n\u001b[1;32m---> 25\u001b[1;33m \u001b[0mmy_group\u001b[0m\u001b[1;33m.\u001b[0m\u001b[0msend_image\u001b[0m\u001b[1;33m(\u001b[0m\u001b[1;34mr'C:\\Users\\sun-m\\Desktop\\stock\\DataAnlysisDemo-master\\pic3.png'\u001b[0m\u001b[1;33m)\u001b[0m\u001b[1;33m\u001b[0m\u001b[0m\n\u001b[0m",
      "\u001b[1;32mD:\\ProgramData\\Anaconda3\\lib\\site-packages\\wxpy\\api\\chats\\chat.py\u001b[0m in \u001b[0;36mwrapped\u001b[1;34m(self, *args, **kwargs)\u001b[0m\n\u001b[0;32m     52\u001b[0m                     \u001b[1;32mreturn\u001b[0m \u001b[0mitchat_partial_func\u001b[0m\u001b[1;33m(\u001b[0m\u001b[1;33m**\u001b[0m\u001b[0mitchat_call_or_ret\u001b[0m\u001b[1;33m)\u001b[0m\u001b[1;33m\u001b[0m\u001b[0m\n\u001b[0;32m     53\u001b[0m \u001b[1;33m\u001b[0m\u001b[0m\n\u001b[1;32m---> 54\u001b[1;33m                 \u001b[0mret\u001b[0m \u001b[1;33m=\u001b[0m \u001b[0mdo_send\u001b[0m\u001b[1;33m(\u001b[0m\u001b[1;33m)\u001b[0m\u001b[1;33m\u001b[0m\u001b[0m\n\u001b[0m\u001b[0;32m     55\u001b[0m             \u001b[1;32melse\u001b[0m\u001b[1;33m:\u001b[0m\u001b[1;33m\u001b[0m\u001b[0m\n\u001b[0;32m     56\u001b[0m                 \u001b[1;31m# send_raw_msg 会直接返回结果\u001b[0m\u001b[1;33m\u001b[0m\u001b[1;33m\u001b[0m\u001b[0m\n",
      "\u001b[1;32mD:\\ProgramData\\Anaconda3\\lib\\site-packages\\wxpy\\utils\\misc.py\u001b[0m in \u001b[0;36mwrapped\u001b[1;34m(*args, **kwargs)\u001b[0m\n\u001b[0;32m     70\u001b[0m                 \u001b[1;32mreturn\u001b[0m\u001b[1;33m\u001b[0m\u001b[0m\n\u001b[0;32m     71\u001b[0m \u001b[1;33m\u001b[0m\u001b[0m\n\u001b[1;32m---> 72\u001b[1;33m             \u001b[0msmart_map\u001b[0m\u001b[1;33m(\u001b[0m\u001b[0mcheck_response_body\u001b[0m\u001b[1;33m,\u001b[0m \u001b[0mret\u001b[0m\u001b[1;33m)\u001b[0m\u001b[1;33m\u001b[0m\u001b[0m\n\u001b[0m\u001b[0;32m     73\u001b[0m \u001b[1;33m\u001b[0m\u001b[0m\n\u001b[0;32m     74\u001b[0m             \u001b[1;32mif\u001b[0m \u001b[0mto_class\u001b[0m\u001b[1;33m:\u001b[0m\u001b[1;33m\u001b[0m\u001b[0m\n",
      "\u001b[1;32mD:\\ProgramData\\Anaconda3\\lib\\site-packages\\wxpy\\utils\\misc.py\u001b[0m in \u001b[0;36msmart_map\u001b[1;34m(func, i, *args, **kwargs)\u001b[0m\n\u001b[0;32m    205\u001b[0m         \u001b[1;32mreturn\u001b[0m \u001b[0mlist\u001b[0m\u001b[1;33m(\u001b[0m\u001b[0mmap\u001b[0m\u001b[1;33m(\u001b[0m\u001b[1;32mlambda\u001b[0m \u001b[0mx\u001b[0m\u001b[1;33m:\u001b[0m \u001b[0mfunc\u001b[0m\u001b[1;33m(\u001b[0m\u001b[0mx\u001b[0m\u001b[1;33m,\u001b[0m \u001b[1;33m*\u001b[0m\u001b[0margs\u001b[0m\u001b[1;33m,\u001b[0m \u001b[1;33m**\u001b[0m\u001b[0mkwargs\u001b[0m\u001b[1;33m)\u001b[0m\u001b[1;33m,\u001b[0m \u001b[0mi\u001b[0m\u001b[1;33m)\u001b[0m\u001b[1;33m)\u001b[0m\u001b[1;33m\u001b[0m\u001b[0m\n\u001b[0;32m    206\u001b[0m     \u001b[1;32melse\u001b[0m\u001b[1;33m:\u001b[0m\u001b[1;33m\u001b[0m\u001b[0m\n\u001b[1;32m--> 207\u001b[1;33m         \u001b[1;32mreturn\u001b[0m \u001b[0mfunc\u001b[0m\u001b[1;33m(\u001b[0m\u001b[0mi\u001b[0m\u001b[1;33m,\u001b[0m \u001b[1;33m*\u001b[0m\u001b[0margs\u001b[0m\u001b[1;33m,\u001b[0m \u001b[1;33m**\u001b[0m\u001b[0mkwargs\u001b[0m\u001b[1;33m)\u001b[0m\u001b[1;33m\u001b[0m\u001b[0m\n\u001b[0m\u001b[0;32m    208\u001b[0m \u001b[1;33m\u001b[0m\u001b[0m\n\u001b[0;32m    209\u001b[0m \u001b[1;33m\u001b[0m\u001b[0m\n",
      "\u001b[1;32mD:\\ProgramData\\Anaconda3\\lib\\site-packages\\wxpy\\utils\\misc.py\u001b[0m in \u001b[0;36mcheck_response_body\u001b[1;34m(response_body)\u001b[0m\n\u001b[0;32m     51\u001b[0m             \u001b[1;32mif\u001b[0m \u001b[0mint\u001b[0m\u001b[1;33m(\u001b[0m\u001b[0merr_code\u001b[0m\u001b[1;33m)\u001b[0m \u001b[1;33m>\u001b[0m \u001b[1;36m0\u001b[0m\u001b[1;33m:\u001b[0m\u001b[1;33m\u001b[0m\u001b[0m\n\u001b[0;32m     52\u001b[0m                 \u001b[0merr_msg\u001b[0m \u001b[1;33m=\u001b[0m \u001b[0mdecode_text_from_webwx\u001b[0m\u001b[1;33m(\u001b[0m\u001b[0merr_msg\u001b[0m\u001b[1;33m)\u001b[0m\u001b[1;33m\u001b[0m\u001b[0m\n\u001b[1;32m---> 53\u001b[1;33m             \u001b[1;32mraise\u001b[0m \u001b[0mResponseError\u001b[0m\u001b[1;33m(\u001b[0m\u001b[0merr_code\u001b[0m\u001b[1;33m=\u001b[0m\u001b[0merr_code\u001b[0m\u001b[1;33m,\u001b[0m \u001b[0merr_msg\u001b[0m\u001b[1;33m=\u001b[0m\u001b[0merr_msg\u001b[0m\u001b[1;33m)\u001b[0m\u001b[1;33m\u001b[0m\u001b[0m\n\u001b[0m\u001b[0;32m     54\u001b[0m \u001b[1;33m\u001b[0m\u001b[0m\n\u001b[0;32m     55\u001b[0m \u001b[1;33m\u001b[0m\u001b[0m\n",
      "\u001b[1;31mResponseError\u001b[0m: err_code: 1; err_msg: "
     ]
    }
   ],
   "source": [
    "my_friend = bot.friends()\n",
    "bot.file_helper.send('Hello from wxpy!')\n",
    "my_group = bot.groups().search('青年,忽尔今夏,中达,lizh')[0]\n",
    "#my_group.send_msg('测试版本06-01')\n",
    "#my_group.send_msg('今天保险,饮料,房地产大量资金流入')\n",
    "#my_group.send_image(r'C:\\Users\\sun-m\\Desktop\\stock\\DataAnlysisDemo-master\\6-4-1.png')\n",
    "#my_group.send_msg('今天医疗,传媒,有色大量资金流出')\n",
    "#my_group.send_image(r'C:\\Users\\sun-m\\Desktop\\stock\\DataAnlysisDemo-master\\6-4-2.png')\n",
    "#my_group.send_msg('今天整体资金处于流出')\n",
    "#my_group.send_image(r'C:\\Users\\sun-m\\Desktop\\stock\\DataAnlysisDemo-master\\6-4-3.png')\n",
    "#my_group.send_msg('保险近几日的流入流出')\n",
    "#my_group.send_image(r'C:\\Users\\sun-m\\Desktop\\stock\\DataAnlysisDemo-master\\6-4-4.png')\n",
    "#my_group.send_msg('今天异常流出板块:零售,养殖业,新化工材料')\n",
    "#my_group.send_image(r'C:\\Users\\sun-m\\Desktop\\stock\\DataAnlysisDemo-master\\6-4-5.png')\n",
    "#my_group.send_msg('近一个月大盘流入流出包括今天')\n",
    "#my_group.send_image(r'C:\\Users\\sun-m\\Desktop\\stock\\DataAnlysisDemo-master\\pic.png')\n",
    "\n",
    "#my_group.send_msg('银行')\n",
    "#my_group.send_image(r'C:\\Users\\sun-m\\Desktop\\stock\\DataAnlysisDemo-master\\6-4-6.png')\n",
    "#my_group.send_msg('保险')\n",
    "#my_group.send_image(r'C:\\Users\\sun-m\\Desktop\\stock\\DataAnlysisDemo-master\\6-4-7.png')\n",
    "#my_group.send_msg('有色冶炼加工')\n",
    "#my_group.send_image(r'C:\\Users\\sun-m\\Desktop\\stock\\DataAnlysisDemo-master\\6-4-8.png')\n",
    "#my_group.send_msg('条形图')\n",
    "#my_group.send_image(r'C:\\Users\\sun-m\\Desktop\\stock\\DataAnlysisDemo-master\\pic3.png')"
   ]
  },
  {
   "cell_type": "code",
   "execution_count": 6,
   "metadata": {},
   "outputs": [
    {
     "name": "stderr",
     "output_type": "stream",
     "text": [
      "LOG OUT!\n"
     ]
    },
    {
     "data": {
      "text/plain": [
       "<ItchatReturnValue: {'BaseResponse': {'ErrMsg': '请求成功', 'Ret': 0, 'RawMsg': 'logout successfully.'}}>"
      ]
     },
     "execution_count": 6,
     "metadata": {},
     "output_type": "execute_result"
    }
   ],
   "source": [
    "bot.logout()"
   ]
  }
 ],
 "metadata": {
  "kernelspec": {
   "display_name": "Python 3",
   "language": "python",
   "name": "python3"
  },
  "language_info": {
   "codemirror_mode": {
    "name": "ipython",
    "version": 3
   },
   "file_extension": ".py",
   "mimetype": "text/x-python",
   "name": "python",
   "nbconvert_exporter": "python",
   "pygments_lexer": "ipython3",
   "version": "3.6.4"
  }
 },
 "nbformat": 4,
 "nbformat_minor": 2
}
