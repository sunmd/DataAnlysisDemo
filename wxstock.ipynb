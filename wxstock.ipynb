{
 "cells": [
  {
   "cell_type": "code",
   "execution_count": 41,
   "metadata": {},
   "outputs": [
    {
     "name": "stderr",
     "output_type": "stream",
     "text": [
      "Getting uuid of QR code.\n",
      "Downloading QR code.\n",
      "Please scan the QR code to log in.\n",
      "Please press confirm on your phone.\n",
      "Loading the contact, this may take a little while.\n",
      "Login successfully as 中达\n"
     ]
    }
   ],
   "source": [
    "# 导入模块\n",
    "from wxpy import *\n",
    "import os\n",
    "# 初始化机器人，扫码登陆\n",
    "bot = Bot()"
   ]
  },
  {
   "cell_type": "code",
   "execution_count": 44,
   "metadata": {},
   "outputs": [
    {
     "name": "stdout",
     "output_type": "stream",
     "text": [
      "<Group: 青年,忽尔今夏,中达,lizh>\n"
     ]
    }
   ],
   "source": [
    "my_friend = bot.friends()\n",
    "bot.file_helper.send('Hello from wxpy!')\n",
    "my_group = bot.groups().search('青年,忽尔今夏,中达,lizh')[0]\n",
    "\n",
    "#my_group = bot.search()\n",
    "print(my_group)"
   ]
  },
  {
   "cell_type": "code",
   "execution_count": 11,
   "metadata": {},
   "outputs": [],
   "source": [
    " #输入路径\n",
    "#file_path = r'/home/sunmd/stock/'\n",
    "file_path = 'C:/Users/sun-m/Desktop/stock/'\n",
    "    \n",
    "#当天数据进行汇报\n",
    "def report_today_msg(session, to_day):\n",
    "    session.send_msg('中达数据分析1.1')\n",
    "    session.send_msg('今天:' + to_day)\n",
    "    \n",
    "    session.send_msg('按时间分析涨幅和净流入:')\n",
    "    session.send_image(file_path + '1.png')\n",
    "    \n",
    "    session.send_msg('前十大资金流入:')\n",
    "    session.send_image(file_path + '2.png')\n",
    "    \n",
    "    session.send_msg('今天大资金流出:')\n",
    "    session.send_image(file_path + '3.png')\n",
    "    \n",
    "    session.send_msg('前五净流入:')\n",
    "    session.send_image(file_path + '4.png')\n",
    "    \n",
    "    session.send_msg('后五净流入:')\n",
    "    session.send_image(file_path + '5.png')\n",
    "    \n",
    "    \n",
    "    for filename in os.listdir(file_path):\n",
    "        \n",
    "        if 'ycz_jlr' in filename:\n",
    "            print('+++++++')\n",
    "            print(filename, type(filename))\n",
    "            session.send_msg('异常净流入板块:')\n",
    "            session.send_image(file_path + filename)\n",
    "            \n",
    "        if 'ycz_zf' in filename:\n",
    "            print('-------')\n",
    "            print(filename, type(filename))\n",
    "            session.send_msg('异常涨幅板块:')\n",
    "            session.send_image(file_path + filename)\n",
    "            "
   ]
  },
  {
   "cell_type": "code",
   "execution_count": 1,
   "metadata": {},
   "outputs": [
    {
     "ename": "NameError",
     "evalue": "name 'bot' is not defined",
     "output_type": "error",
     "traceback": [
      "\u001b[0;31m---------------------------------------------------------------------------\u001b[0m",
      "\u001b[0;31mNameError\u001b[0m                                 Traceback (most recent call last)",
      "\u001b[0;32m<ipython-input-1-dd8ebb203524>\u001b[0m in \u001b[0;36m<module>\u001b[0;34m()\u001b[0m\n\u001b[0;32m----> 1\u001b[0;31m \u001b[0mhelper\u001b[0m \u001b[0;34m=\u001b[0m \u001b[0mbot\u001b[0m\u001b[0;34m.\u001b[0m\u001b[0mfile_helper\u001b[0m\u001b[0;34m\u001b[0m\u001b[0m\n\u001b[0m\u001b[1;32m      2\u001b[0m \u001b[0mreport_today_msg\u001b[0m\u001b[0;34m(\u001b[0m\u001b[0mmy_group\u001b[0m\u001b[0;34m,\u001b[0m \u001b[0;34m'2018-06-08'\u001b[0m\u001b[0;34m)\u001b[0m\u001b[0;34m\u001b[0m\u001b[0m\n",
      "\u001b[0;31mNameError\u001b[0m: name 'bot' is not defined"
     ]
    }
   ],
   "source": [
    "helper = bot.file_helper\n",
    "report_today_msg(my_group, '2018-06-08')"
   ]
  },
  {
   "cell_type": "code",
   "execution_count": 12,
   "metadata": {},
   "outputs": [],
   "source": [
    "import numpy as np\n",
    "import pandas as pd\n",
    "import matplotlib.pyplot as plt\n",
    "\n",
    "import matplotlib as mpl\n",
    "mpl.rcParams['font.sans-serif'] = ['KaiTi']\n",
    "mpl.rcParams['font.serif'] = ['KaiTi']\n",
    "mpl.rcParams['axes.unicode_minus']=False\n",
    "\n",
    "#输出数据\n",
    "str_data = '/home/sunmd/stock/shuju.xlsx'\n",
    "#str_data = r'C:\\Users\\sun-m\\Desktop\\stock\\shuju.xlsx'\n",
    "\n",
    "#输入路径\n",
    "file_path = r'/home/sunmd/stock/'\n",
    "#file_path = 'C:/Users/sun-m/Desktop/stock/'\n",
    "\n",
    "#固定的列名\n",
    "columns_name = ['代码', '名称', '涨幅%', '净流入', '大流入', '大流出', '中流入', '中流出', '统计时间']\n",
    "\n",
    "#读数据表\n",
    "def read_data():\n",
    "    return pd.read_excel(str_data)\n",
    "\n",
    "#涨幅和净流入图标回执\n",
    "def zf_jlr(df, name, png_name):\n",
    "    fig,axis = plt.subplots(1,2, figsize=(16,8))\n",
    "    df['涨幅%'].plot(kind='bar', ax=axis[0], alpha=0.8, title=name + '涨幅统计', rot=45, fontsize=(15))\n",
    "    df['净流入'].plot(kind='bar', ax=axis[1], alpha=0.8, title=name + '净流入统计', rot=45, fontsize=(15))\n",
    "    print(file_path+png_name + \"保存路径\")\n",
    "    plt.savefig(file_path+png_name, dpi=400)\n",
    "    print('保存成功')"
   ]
  },
  {
   "cell_type": "code",
   "execution_count": 23,
   "metadata": {},
   "outputs": [],
   "source": [
    "#img\n",
    "img = 'temp.png'\n",
    "\n",
    "helper = bot.file_helper\n",
    "# 定位地主会\n",
    "#company_group = ensure_one(bot.groups().search('青年,忽尔今夏,中达,lizh'))\n",
    "\n",
    "\n",
    "# 将老板的消息转发到文件传输助手\n",
    "@bot.register(helper)\n",
    "def forward_boss_message(msg):\n",
    "    if msg.text == '提示':\n",
    "        msg.reply_msg(columns_name)\n",
    "        \n",
    "    elif msg.text in columns_name:\n",
    "        temp_df = df[df['名称']==name]\n",
    "        \n",
    "        zf_jlr(temp_df[-10:], msg.text, file_path + img)\n",
    "        msg.reply_msg(\"今天到前10天的%s板块情况：\" %(msg.text))\n",
    "        msg.reply_image(file_path + img)\n",
    "\n",
    "# 堵塞线程\n",
    "#embed()\n"
   ]
  },
  {
   "cell_type": "code",
   "execution_count": 45,
   "metadata": {},
   "outputs": [
    {
     "name": "stderr",
     "output_type": "stream",
     "text": [
      "LOG OUT!\n"
     ]
    },
    {
     "data": {
      "text/plain": [
       "<ItchatReturnValue: {'BaseResponse': {'ErrMsg': '请求成功', 'Ret': 0, 'RawMsg': 'logout successfully.'}}>"
      ]
     },
     "execution_count": 45,
     "metadata": {},
     "output_type": "execute_result"
    }
   ],
   "source": [
    "bot.logout()"
   ]
  }
 ],
 "metadata": {
  "kernelspec": {
   "display_name": "Python 3",
   "language": "python",
   "name": "python3"
  },
  "language_info": {
   "codemirror_mode": {
    "name": "ipython",
    "version": 3
   },
   "file_extension": ".py",
   "mimetype": "text/x-python",
   "name": "python",
   "nbconvert_exporter": "python",
   "pygments_lexer": "ipython3",
   "version": "3.6.4"
  }
 },
 "nbformat": 4,
 "nbformat_minor": 2
}
